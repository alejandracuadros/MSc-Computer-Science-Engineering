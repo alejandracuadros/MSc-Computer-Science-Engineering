{
  "cells": [
    {
      "cell_type": "markdown",
      "source": [
        "# Framework installation"
      ],
      "metadata": {
        "id": "MZVQbnJMgVgU"
      },
      "id": "MZVQbnJMgVgU"
    },
    {
      "cell_type": "code",
      "source": [
        "pip install qiskit --quiet"
      ],
      "metadata": {
        "colab": {
          "base_uri": "https://localhost:8080/"
        },
        "id": "jEBjSIfcaL1E",
        "outputId": "33f44f71-7367-4e88-8c92-3c108a7f5596"
      },
      "id": "jEBjSIfcaL1E",
      "execution_count": null,
      "outputs": [
        {
          "output_type": "stream",
          "name": "stdout",
          "text": [
            "\u001b[?25l   \u001b[90m━━━━━━━━━━━━━━━━━━━━━━━━━━━━━━━━━━━━━━━━\u001b[0m \u001b[32m0.0/6.7 MB\u001b[0m \u001b[31m?\u001b[0m eta \u001b[36m-:--:--\u001b[0m\r\u001b[2K   \u001b[91m━━\u001b[0m\u001b[90m╺\u001b[0m\u001b[90m━━━━━━━━━━━━━━━━━━━━━━━━━━━━━━━━━━━━━\u001b[0m \u001b[32m0.3/6.7 MB\u001b[0m \u001b[31m10.6 MB/s\u001b[0m eta \u001b[36m0:00:01\u001b[0m\r\u001b[2K   \u001b[91m━━━━━━━━━━━━━━━━\u001b[0m\u001b[91m╸\u001b[0m\u001b[90m━━━━━━━━━━━━━━━━━━━━━━━\u001b[0m \u001b[32m2.9/6.7 MB\u001b[0m \u001b[31m41.5 MB/s\u001b[0m eta \u001b[36m0:00:01\u001b[0m\r\u001b[2K   \u001b[91m━━━━━━━━━━━━━━━━━━━━━━━━━━━━━━━━━━━━━━━\u001b[0m\u001b[91m╸\u001b[0m \u001b[32m6.7/6.7 MB\u001b[0m \u001b[31m71.7 MB/s\u001b[0m eta \u001b[36m0:00:01\u001b[0m\r\u001b[2K   \u001b[90m━━━━━━━━━━━━━━━━━━━━━━━━━━━━━━━━━━━━━━━━\u001b[0m \u001b[32m6.7/6.7 MB\u001b[0m \u001b[31m53.2 MB/s\u001b[0m eta \u001b[36m0:00:00\u001b[0m\n",
            "\u001b[?25h\u001b[?25l   \u001b[90m━━━━━━━━━━━━━━━━━━━━━━━━━━━━━━━━━━━━━━━━\u001b[0m \u001b[32m0.0/119.4 kB\u001b[0m \u001b[31m?\u001b[0m eta \u001b[36m-:--:--\u001b[0m\r\u001b[2K   \u001b[90m━━━━━━━━━━━━━━━━━━━━━━━━━━━━━━━━━━━━━━━━\u001b[0m \u001b[32m119.4/119.4 kB\u001b[0m \u001b[31m9.5 MB/s\u001b[0m eta \u001b[36m0:00:00\u001b[0m\n",
            "\u001b[?25h\u001b[?25l   \u001b[90m━━━━━━━━━━━━━━━━━━━━━━━━━━━━━━━━━━━━━━━━\u001b[0m \u001b[32m0.0/2.1 MB\u001b[0m \u001b[31m?\u001b[0m eta \u001b[36m-:--:--\u001b[0m\r\u001b[2K   \u001b[90m━━━━━━━━━━━━━━━━━━━━━━━━━━━━━━━━━━━━━━━━\u001b[0m \u001b[32m2.1/2.1 MB\u001b[0m \u001b[31m68.1 MB/s\u001b[0m eta \u001b[36m0:00:00\u001b[0m\n",
            "\u001b[2K   \u001b[90m━━━━━━━━━━━━━━━━━━━━━━━━━━━━━━━━━━━━━━━━\u001b[0m \u001b[32m49.5/49.5 kB\u001b[0m \u001b[31m3.9 MB/s\u001b[0m eta \u001b[36m0:00:00\u001b[0m\n",
            "\u001b[2K   \u001b[90m━━━━━━━━━━━━━━━━━━━━━━━━━━━━━━━━━━━━━━━━\u001b[0m \u001b[32m49.7/49.7 MB\u001b[0m \u001b[31m18.1 MB/s\u001b[0m eta \u001b[36m0:00:00\u001b[0m\n",
            "\u001b[2K   \u001b[90m━━━━━━━━━━━━━━━━━━━━━━━━━━━━━━━━━━━━━━━━\u001b[0m \u001b[32m109.0/109.0 kB\u001b[0m \u001b[31m7.3 MB/s\u001b[0m eta \u001b[36m0:00:00\u001b[0m\n",
            "\u001b[?25h"
          ]
        }
      ]
    },
    {
      "cell_type": "code",
      "source": [
        "pip install qiskit-aer --quiet"
      ],
      "metadata": {
        "colab": {
          "base_uri": "https://localhost:8080/"
        },
        "id": "4qqV5WMsaZoG",
        "outputId": "ef0fc410-c30e-4693-c72b-c65e00ff9666"
      },
      "id": "4qqV5WMsaZoG",
      "execution_count": null,
      "outputs": [
        {
          "output_type": "stream",
          "name": "stdout",
          "text": [
            "\u001b[2K   \u001b[90m━━━━━━━━━━━━━━━━━━━━━━━━━━━━━━━━━━━━━━━━\u001b[0m \u001b[32m12.4/12.4 MB\u001b[0m \u001b[31m21.4 MB/s\u001b[0m eta \u001b[36m0:00:00\u001b[0m\n",
            "\u001b[?25h"
          ]
        }
      ]
    },
    {
      "cell_type": "code",
      "source": [
        "pip install pylatexenc --quiet"
      ],
      "metadata": {
        "colab": {
          "base_uri": "https://localhost:8080/"
        },
        "id": "vS-Qetn4adZ2",
        "outputId": "18560e72-b96f-48a2-c2c4-bbeb7b13796f"
      },
      "id": "vS-Qetn4adZ2",
      "execution_count": null,
      "outputs": [
        {
          "output_type": "stream",
          "name": "stdout",
          "text": [
            "\u001b[?25l     \u001b[90m━━━━━━━━━━━━━━━━━━━━━━━━━━━━━━━━━━━━━━━━\u001b[0m \u001b[32m0.0/162.6 kB\u001b[0m \u001b[31m?\u001b[0m eta \u001b[36m-:--:--\u001b[0m\r\u001b[2K     \u001b[91m━━━━━━━━━━━━━━━━━━━━━━━━━━━━━━━━━━━━━\u001b[0m\u001b[91m╸\u001b[0m\u001b[90m━━\u001b[0m \u001b[32m153.6/162.6 kB\u001b[0m \u001b[31m4.9 MB/s\u001b[0m eta \u001b[36m0:00:01\u001b[0m\r\u001b[2K     \u001b[90m━━━━━━━━━━━━━━━━━━━━━━━━━━━━━━━━━━━━━━━━\u001b[0m \u001b[32m162.6/162.6 kB\u001b[0m \u001b[31m2.8 MB/s\u001b[0m eta \u001b[36m0:00:00\u001b[0m\n",
            "\u001b[?25h  Preparing metadata (setup.py) ... \u001b[?25l\u001b[?25hdone\n",
            "  Building wheel for pylatexenc (setup.py) ... \u001b[?25l\u001b[?25hdone\n"
          ]
        }
      ]
    },
    {
      "cell_type": "code",
      "source": [
        "from qiskit import QuantumCircuit\n",
        "from qiskit import QuantumRegister\n",
        "from qiskit import transpile\n",
        "from qiskit.visualization import plot_histogram\n",
        "from qiskit.circuit.library import QFT, PhaseGate\n",
        "from qiskit_aer import Aer\n",
        "import matplotlib.pyplot as plt\n",
        "import numpy as np\n",
        "from qiskit import ClassicalRegister\n",
        "from qiskit.quantum_info import Statevector\n",
        "from qiskit.visualization import plot_bloch_multivector\n",
        "from qiskit.circuit.library.standard_gates import HGate, XGate, ZGate\n"
      ],
      "metadata": {
        "id": "QCLvsRMOaKaX"
      },
      "id": "QCLvsRMOaKaX",
      "execution_count": null,
      "outputs": []
    },
    {
      "cell_type": "markdown",
      "source": [
        "# 1. Bell States\n",
        "Create circuits to create the four famous Bell states! Create a circuit to\n",
        "create an entanglement of three quantum bits!"
      ],
      "metadata": {
        "id": "5d0E9ehTZ-J2"
      },
      "id": "5d0E9ehTZ-J2"
    },
    {
      "cell_type": "markdown",
      "source": [
        "## |Ψ+⟩\n"
      ],
      "metadata": {
        "id": "v4WNl_rLamSS"
      },
      "id": "v4WNl_rLamSS"
    },
    {
      "cell_type": "code",
      "source": [
        "qc1 = QuantumCircuit(2)\n",
        "qc1.h(0)\n",
        "qc1.cx(0,1)"
      ],
      "metadata": {
        "colab": {
          "base_uri": "https://localhost:8080/"
        },
        "id": "LHfzlULMcsoK",
        "outputId": "3d089759-6066-4a03-9dc0-38c764401cf7"
      },
      "id": "LHfzlULMcsoK",
      "execution_count": null,
      "outputs": [
        {
          "output_type": "execute_result",
          "data": {
            "text/plain": [
              "<qiskit.circuit.instructionset.InstructionSet at 0x7c7ca8dd8fd0>"
            ]
          },
          "metadata": {},
          "execution_count": 6
        }
      ]
    },
    {
      "cell_type": "code",
      "source": [
        "qc1.draw(output='mpl')"
      ],
      "metadata": {
        "colab": {
          "base_uri": "https://localhost:8080/"
        },
        "id": "NpLqCjzOeylQ",
        "outputId": "856f9cfa-554e-4c2f-a1ff-690892cd441d"
      },
      "id": "NpLqCjzOeylQ",
      "execution_count": null,
      "outputs": [
        {
          "output_type": "execute_result",
          "data": {
            "text/plain": [
              "<Figure size 287.294x200.667 with 1 Axes>"
            ],
            "image/png": "[encoded data removed]"
          },
          "metadata": {},
          "execution_count": 7
        }
      ]
    },
    {
      "cell_type": "markdown",
      "source": [
        "## |Ψ−⟩"
      ],
      "metadata": {
        "id": "giZFYdr5aobl"
      },
      "id": "giZFYdr5aobl"
    },
    {
      "cell_type": "code",
      "source": [
        "qc2 = QuantumCircuit(2)\n",
        "qc2.x(0)\n",
        "qc2.h(0)\n",
        "qc2.cx(0,1)\n",
        "\n",
        "qc2.draw(output='mpl')"
      ],
      "metadata": {
        "colab": {
          "base_uri": "https://localhost:8080/"
        },
        "id": "mnK6RfyLfRNf",
        "outputId": "97b8debb-c35b-414a-b4d3-b16db08b5b3b"
      },
      "id": "mnK6RfyLfRNf",
      "execution_count": null,
      "outputs": [
        {
          "output_type": "execute_result",
          "data": {
            "text/plain": [
              "<Figure size 370.906x200.667 with 1 Axes>"
            ],
            "image/png": "[encoded data removed]"
          },
          "metadata": {},
          "execution_count": 8
        }
      ]
    },
    {
      "cell_type": "markdown",
      "source": [
        "## |Φ+⟩"
      ],
      "metadata": {
        "id": "-qA9e7cDasAt"
      },
      "id": "-qA9e7cDasAt"
    },
    {
      "cell_type": "code",
      "source": [
        "qc3 = QuantumCircuit(2)\n",
        "qc3.x(1)\n",
        "qc3.h(0)\n",
        "qc3.cx(0,1)\n",
        "\n",
        "qc3.draw(output='mpl')"
      ],
      "metadata": {
        "colab": {
          "base_uri": "https://localhost:8080/"
        },
        "id": "uiUQSP09fyCH",
        "outputId": "d6057301-f5b9-4816-eba8-10e201e5d605"
      },
      "id": "uiUQSP09fyCH",
      "execution_count": null,
      "outputs": [
        {
          "output_type": "execute_result",
          "data": {
            "text/plain": [
              "<Figure size 287.294x200.667 with 1 Axes>"
            ],
            "image/png": "[encoded data removed]"
          },
          "metadata": {},
          "execution_count": 9
        }
      ]
    },
    {
      "cell_type": "markdown",
      "source": [
        "## |Φ-⟩"
      ],
      "metadata": {
        "id": "6ZLxxpFOay07"
      },
      "id": "6ZLxxpFOay07"
    },
    {
      "cell_type": "code",
      "source": [
        "qc4 = QuantumCircuit(2)\n",
        "qc4.x(0)\n",
        "qc4.x(1)\n",
        "qc4.h(0)\n",
        "qc4.cx(0,1)\n",
        "\n",
        "qc4.draw(output='mpl')"
      ],
      "metadata": {
        "colab": {
          "base_uri": "https://localhost:8080/"
        },
        "id": "wUetpv-cal5-",
        "outputId": "c8017c19-fedb-4bbc-e37e-4cf91814111f"
      },
      "id": "wUetpv-cal5-",
      "execution_count": null,
      "outputs": [
        {
          "output_type": "execute_result",
          "data": {
            "text/plain": [
              "<Figure size 370.906x200.667 with 1 Axes>"
            ],
            "image/png": "[encoded data removed]"
          },
          "metadata": {},
          "execution_count": 10
        }
      ]
    },
    {
      "cell_type": "markdown",
      "source": [
        "##  Create a circuit to create an entanglement of three quantum bits!"
      ],
      "metadata": {
        "id": "VlA7qHhTi5i4"
      },
      "id": "VlA7qHhTi5i4"
    },
    {
      "cell_type": "code",
      "source": [
        "qc_3eq = QuantumCircuit(3)\n",
        "qc_3eq.h(0)\n",
        "qc_3eq.cx(0,1)\n",
        "qc_3eq.cx(0,2)\n",
        "qc_3eq.draw(output='mpl')"
      ],
      "metadata": {
        "colab": {
          "base_uri": "https://localhost:8080/"
        },
        "id": "n7DDb2NTi8Qg",
        "outputId": "b9cab4f3-ac5a-489d-b4b8-14c9c8b4d405"
      },
      "id": "n7DDb2NTi8Qg",
      "execution_count": null,
      "outputs": [
        {
          "output_type": "execute_result",
          "data": {
            "text/plain": [
              "<Figure size 371.107x284.278 with 1 Axes>"
            ],
            "image/png": "[encoded data removed]"
          },
          "metadata": {},
          "execution_count": 11
        }
      ]
    },
    {
      "cell_type": "markdown",
      "source": [
        "# 2. Superdense Coding"
      ],
      "metadata": {
        "id": "0vSIu9z1gSZN"
      },
      "id": "0vSIu9z1gSZN"
    },
    {
      "cell_type": "code",
      "source": [
        "# Let's define the Circuit like Bellpair - encoding of the message - decoding of the message\n",
        "def bellpair():\n",
        "  qc_sdc = QuantumCircuit(2,2)\n",
        "  qc_sdc.h(0)\n",
        "  qc_sdc.cx(0,1)\n",
        "  return qc_sdc\n",
        "\n",
        "def encoding(qc_sdc, message):\n",
        "  if message == \"00\":\n",
        "    pass\n",
        "  elif message == \"01\":\n",
        "    qc_sdc.x(0)\n",
        "  elif message == \"10\":\n",
        "    qc_sdc.z(0)\n",
        "  elif message == \"11\":\n",
        "    qc_sdc.x(0)\n",
        "    qc_sdc.z(0)\n",
        "\n",
        "def decoding(qc_sdc):\n",
        "  qc_sdc.cx(0,1)\n",
        "  qc_sdc.h(0)\n",
        "  qc_sdc.measure([0, 1], [1, 0])"
      ],
      "metadata": {
        "id": "EbQJVayigbZs"
      },
      "id": "EbQJVayigbZs",
      "execution_count": null,
      "outputs": []
    },
    {
      "cell_type": "code",
      "source": [
        "def superdensecoding():\n",
        "  qc_sdc = bellpair()\n",
        "  qc_sdc.draw(output='mpl')\n",
        "\n",
        "  message = input(\"Enter a 2-bit message (00, 01, 10, 11): \")\n",
        "  if message not in [\"00\",\"01\",\"10\",\"11\"]:\n",
        "    print(\"Invalid message, consider 00, 01, 10 or 11 as the only allowed input\")\n",
        "    return\n",
        "  encoding(qc_sdc, message)\n",
        "  print(\" \\nBefore encoding\")\n",
        "  print(qc_sdc.draw())\n",
        "\n",
        "  decoding(qc_sdc)\n",
        "  print(\"After decoding and measurement\")\n",
        "  print(qc_sdc.draw())\n",
        "\n",
        "  #simulation\n",
        "  backend = Aer.get_backend(\"qasm_simulator\")\n",
        "  compiled_circuit = transpile(qc_sdc, backend)\n",
        "\n",
        "  #run simulation\n",
        "  job_sim = backend.run(compiled_circuit, shots=10, memory=True)\n",
        "  result_sim = job_sim.result()\n",
        "\n",
        "  #measurements results\n",
        "  counts = result_sim.get_counts()\n",
        "\n",
        "  print(f\"Decoded Message for '{message}': {counts}\")\n"
      ],
      "metadata": {
        "id": "sKvIGxHJq1CH"
      },
      "id": "sKvIGxHJq1CH",
      "execution_count": null,
      "outputs": []
    },
    {
      "cell_type": "code",
      "source": [
        "superdensecoding()"
      ],
      "metadata": {
        "colab": {
          "base_uri": "https://localhost:8080/"
        },
        "id": "iSmYvCWytg5Y",
        "outputId": "432870ef-42cf-4c1d-ef93-be2933a3b15d"
      },
      "id": "iSmYvCWytg5Y",
      "execution_count": null,
      "outputs": [
        {
          "output_type": "stream",
          "name": "stdout",
          "text": [
            "Enter a 2-bit message (00, 01, 10, 11): 00\n",
            " \n",
            "Before encoding\n",
            "     ┌───┐     \n",
            "q_0: ┤ H ├──■──\n",
            "     └───┘┌─┴─┐\n",
            "q_1: ─────┤ X ├\n",
            "          └───┘\n",
            "c: 2/══════════\n",
            "               \n",
            "After decoding and measurement\n",
            "     ┌───┐          ┌───┐┌─┐\n",
            "q_0: ┤ H ├──■────■──┤ H ├┤M├\n",
            "     └───┘┌─┴─┐┌─┴─┐└┬─┬┘└╥┘\n",
            "q_1: ─────┤ X ├┤ X ├─┤M├──╫─\n",
            "          └───┘└───┘ └╥┘  ║ \n",
            "c: 2/═════════════════╩═══╩═\n",
            "                      0   1 \n",
            "Decoded Message for '00': {'00': 10}\n"
          ]
        }
      ]
    },
    {
      "cell_type": "code",
      "source": [
        "superdensecoding()"
      ],
      "metadata": {
        "colab": {
          "base_uri": "https://localhost:8080/"
        },
        "id": "CPbZmJp8tnzZ",
        "outputId": "eca10635-1de0-47d4-bd79-47a6fa3f7204"
      },
      "id": "CPbZmJp8tnzZ",
      "execution_count": null,
      "outputs": [
        {
          "output_type": "stream",
          "name": "stdout",
          "text": [
            "Enter a 2-bit message (00, 01, 10, 11): 01\n",
            " \n",
            "Before encoding\n",
            "     ┌───┐     ┌───┐\n",
            "q_0: ┤ H ├──■──┤ X ├\n",
            "     └───┘┌─┴─┐└───┘\n",
            "q_1: ─────┤ X ├─────\n",
            "          └───┘     \n",
            "c: 2/═══════════════\n",
            "                    \n",
            "After decoding and measurement\n",
            "     ┌───┐     ┌───┐     ┌───┐┌─┐\n",
            "q_0: ┤ H ├──■──┤ X ├──■──┤ H ├┤M├\n",
            "     └───┘┌─┴─┐└───┘┌─┴─┐└┬─┬┘└╥┘\n",
            "q_1: ─────┤ X ├─────┤ X ├─┤M├──╫─\n",
            "          └───┘     └───┘ └╥┘  ║ \n",
            "c: 2/══════════════════════╩═══╩═\n",
            "                           0   1 \n",
            "Decoded Message for '01': {'01': 10}\n"
          ]
        }
      ]
    },
    {
      "cell_type": "code",
      "source": [
        "superdensecoding()"
      ],
      "metadata": {
        "colab": {
          "base_uri": "https://localhost:8080/"
        },
        "id": "xq_Zk2GjG7Zn",
        "outputId": "7ab590f1-803f-4092-b4d4-11c7b70dca01"
      },
      "id": "xq_Zk2GjG7Zn",
      "execution_count": null,
      "outputs": [
        {
          "output_type": "stream",
          "name": "stdout",
          "text": [
            "Enter a 2-bit message (00, 01, 10, 11): 10\n",
            " \n",
            "Before encoding\n",
            "     ┌───┐     ┌───┐\n",
            "q_0: ┤ H ├──■──┤ Z ├\n",
            "     └───┘┌─┴─┐└───┘\n",
            "q_1: ─────┤ X ├─────\n",
            "          └───┘     \n",
            "c: 2/═══════════════\n",
            "                    \n",
            "After decoding and measurement\n",
            "     ┌───┐     ┌───┐     ┌───┐┌─┐\n",
            "q_0: ┤ H ├──■──┤ Z ├──■──┤ H ├┤M├\n",
            "     └───┘┌─┴─┐└───┘┌─┴─┐└┬─┬┘└╥┘\n",
            "q_1: ─────┤ X ├─────┤ X ├─┤M├──╫─\n",
            "          └───┘     └───┘ └╥┘  ║ \n",
            "c: 2/══════════════════════╩═══╩═\n",
            "                           0   1 \n",
            "Decoded Message for '10': {'10': 10}\n"
          ]
        }
      ]
    },
    {
      "cell_type": "code",
      "source": [
        "superdensecoding()"
      ],
      "metadata": {
        "colab": {
          "base_uri": "https://localhost:8080/"
        },
        "id": "QekJvuugG-pG",
        "outputId": "68adb7d3-580e-4e28-b448-02372352ec73"
      },
      "id": "QekJvuugG-pG",
      "execution_count": null,
      "outputs": [
        {
          "output_type": "stream",
          "name": "stdout",
          "text": [
            "Enter a 2-bit message (00, 01, 10, 11): 11\n",
            " \n",
            "Before encoding\n",
            "     ┌───┐     ┌───┐┌───┐\n",
            "q_0: ┤ H ├──■──┤ X ├┤ Z ├\n",
            "     └───┘┌─┴─┐└───┘└───┘\n",
            "q_1: ─────┤ X ├──────────\n",
            "          └───┘          \n",
            "c: 2/════════════════════\n",
            "                         \n",
            "After decoding and measurement\n",
            "     ┌───┐     ┌───┐┌───┐     ┌───┐┌─┐\n",
            "q_0: ┤ H ├──■──┤ X ├┤ Z ├──■──┤ H ├┤M├\n",
            "     └───┘┌─┴─┐└───┘└───┘┌─┴─┐└┬─┬┘└╥┘\n",
            "q_1: ─────┤ X ├──────────┤ X ├─┤M├──╫─\n",
            "          └───┘          └───┘ └╥┘  ║ \n",
            "c: 2/═══════════════════════════╩═══╩═\n",
            "                                0   1 \n",
            "Decoded Message for '11': {'11': 10}\n"
          ]
        }
      ]
    },
    {
      "cell_type": "code",
      "source": [
        "#set simulator\n",
        "backend = Aer.get_backend('qasm_simulator')\n",
        "job_sim = backend.run(transpile(qc_sdc, backend))\n",
        "result_sim = job_sim.result()\n",
        "counts = result_sim.get_counts()\n"
      ],
      "metadata": {
        "id": "616Z_9XMnyqX"
      },
      "id": "616Z_9XMnyqX",
      "execution_count": null,
      "outputs": []
    },
    {
      "cell_type": "code",
      "source": [
        "#set simulator\n",
        "backend = Aer.get_backend('qasm_simulator')\n",
        "job_sim = backend.run(transpile(qc, backend), shots=10, memory=True) # 10 repetitions\n",
        "#get measurement result\n",
        "result_sim = job_sim.result()\n",
        "#get count statistics\n",
        "counts = result_sim.get_counts()\n"
      ],
      "metadata": {
        "id": "JfhjDLJSokxl"
      },
      "id": "JfhjDLJSokxl",
      "execution_count": null,
      "outputs": []
    },
    {
      "cell_type": "code",
      "source": [
        "bellpair()"
      ],
      "metadata": {
        "colab": {
          "base_uri": "https://localhost:8080/"
        },
        "id": "DyrPCNXmnJAn",
        "outputId": "16a0aaee-7633-4b40-a82c-85fdeb9b0062"
      },
      "id": "DyrPCNXmnJAn",
      "execution_count": null,
      "outputs": [
        {
          "output_type": "execute_result",
          "data": {
            "text/plain": [
              "<qiskit.circuit.quantumcircuit.QuantumCircuit at 0x79b2b0017610>"
            ]
          },
          "metadata": {},
          "execution_count": 44
        }
      ]
    },
    {
      "cell_type": "markdown",
      "id": "e89e7241-5820-484d-8109-b96e3eb909c0",
      "metadata": {
        "id": "e89e7241-5820-484d-8109-b96e3eb909c0"
      },
      "source": [
        "## Short Python cheatsheet"
      ]
    },
    {
      "cell_type": "code",
      "execution_count": null,
      "id": "97de02fd-2273-4be0-b3b0-de6a946e044b",
      "metadata": {
        "id": "97de02fd-2273-4be0-b3b0-de6a946e044b",
        "outputId": "a2e8a7d6-4543-4ca8-a90e-6c704da52d34"
      },
      "outputs": [
        {
          "name": "stdout",
          "output_type": "stream",
          "text": [
            "Hello World!\n",
            "maybe beleive this\n",
            "0\n",
            "1\n",
            "2\n",
            "3\n",
            "4\n",
            "dog\n",
            "cat\n",
            "turtle\n"
          ]
        }
      ],
      "source": [
        "#functions\n",
        "\n",
        "def func1(param1 = \"default1\", param2 = \"default2\"):\n",
        "    return param1 + param2\n",
        "\n",
        "print(func1(\"Hello \",\"World!\"))\n",
        "\n",
        "#if\n",
        "if 1 > 2:\n",
        "    print(\"dont beleive\")\n",
        "elif 1 > 3:\n",
        "    print(\"beleive even less\")\n",
        "else:\n",
        "    print(\"maybe beleive this\")\n",
        "\n",
        "# for loop\n",
        "for i in range(5):\n",
        "    print(i)\n",
        "\n",
        "#lista\n",
        "pets = [\"dog\",\"cat\", \"turtle\"]\n",
        "for my_pet in pets:\n",
        "    print(my_pet)"
      ]
    },
    {
      "cell_type": "markdown",
      "source": [
        "# 3. Teleportation Protocol"
      ],
      "metadata": {
        "id": "jzrc6_6EuAXN"
      },
      "id": "jzrc6_6EuAXN"
    },
    {
      "cell_type": "markdown",
      "source": [
        "# 4. BB84 quantum key distribution protocol"
      ],
      "metadata": {
        "id": "fxYuKvqcuFnb"
      },
      "id": "fxYuKvqcuFnb"
    },
    {
      "cell_type": "markdown",
      "source": [],
      "metadata": {
        "id": "smq2_MiAuH4R"
      },
      "id": "smq2_MiAuH4R"
    },
    {
      "cell_type": "markdown",
      "id": "50e2968f-a6b3-482b-be8b-31e82f9e70e7",
      "metadata": {
        "id": "50e2968f-a6b3-482b-be8b-31e82f9e70e7"
      },
      "source": [
        "# Qiskit code cheatsheet for the lab\n",
        "\n"
      ]
    },
    {
      "cell_type": "code",
      "execution_count": null,
      "id": "77f338d9-dd38-4d05-b2aa-64d0f62ef659",
      "metadata": {
        "tags": [],
        "colab": {
          "base_uri": "https://localhost:8080/",
          "height": 420
        },
        "id": "77f338d9-dd38-4d05-b2aa-64d0f62ef659",
        "outputId": "25ca4ea3-efb4-4616-a041-9b22a99a11e6"
      },
      "outputs": [
        {
          "output_type": "stream",
          "name": "stdout",
          "text": [
            "Statevector([-0.14142136+0.j,  0.        +0.j,  0.        +0.j,\n",
            "             -0.98994949+0.j],\n",
            "            dims=(2, 2))\n"
          ]
        },
        {
          "output_type": "stream",
          "name": "stderr",
          "text": [
            "<ipython-input-27-b1fb41799815>:32: DeprecationWarning: The method ``qiskit.circuit.singleton._SingletonInstructionOverrides.c_if()`` is deprecated as of qiskit 1.3.0. It will be removed in 2.0.0.\n",
            "  ch_gate = HGate().c_if(c[0],1) # controlled H,  gate active if c[0] contains a '1'\n",
            "<ipython-input-27-b1fb41799815>:34: DeprecationWarning: The method ``qiskit.circuit.singleton._SingletonInstructionOverrides.c_if()`` is deprecated as of qiskit 1.3.0. It will be removed in 2.0.0.\n",
            "  cx_gate = XGate().c_if(c[0],1) # controlled X,  gate active if c[0] contains a '1'\n",
            "<ipython-input-27-b1fb41799815>:36: DeprecationWarning: The method ``qiskit.circuit.singleton._SingletonInstructionOverrides.c_if()`` is deprecated as of qiskit 1.3.0. It will be removed in 2.0.0.\n",
            "  cz_gate = ZGate().c_if(c[0],1) # controlled Z,  gate active if c[0] contains a '1'\n"
          ]
        },
        {
          "output_type": "execute_result",
          "data": {
            "text/plain": [
              "     ┌─────────────────────┐┌───┐┌───┐┌───┐     ┌─┐                      »\n",
              "q_0: ┤ Initialize(0.6,0.8) ├┤ H ├┤ X ├┤ Z ├──■──┤M├──────────────────────»\n",
              "     └─────────────────────┘└───┘└───┘└───┘┌─┴─┐└╥┘   ┌───┐      ┌───┐   »\n",
              "q_1: ──────────────────────────────────────┤ X ├─╫────┤ H ├──────┤ X ├───»\n",
              "                                           └───┘ ║    └─╥─┘      └─╥─┘   »\n",
              "                                                 ║ ┌────╨────┐┌────╨────┐»\n",
              "c: 2/════════════════════════════════════════════╩═╡ c_0=0x1 ╞╡ c_0=0x1 ╞»\n",
              "                                                 0 └─────────┘└─────────┘»\n",
              "«                 separartion here    \n",
              "«q_0: ───────────────────░────────────\n",
              "«        ┌───┐           ░         ┌─┐\n",
              "«q_1: ───┤ Z ├───────────░─────────┤M├\n",
              "«        └─╥─┘           ░         └╥┘\n",
              "«     ┌────╨────┐                   ║ \n",
              "«c: 2/╡ c_0=0x1 ╞═══════════════════╩═\n",
              "«     └─────────┘                   1 "
            ],
            "text/html": [
              "<pre style=\"word-wrap: normal;white-space: pre;background: #fff0;line-height: 1.1;font-family: &quot;Courier New&quot;,Courier,monospace\">     ┌─────────────────────┐┌───┐┌───┐┌───┐     ┌─┐                      »\n",
              "q_0: ┤ Initialize(0.6,0.8) ├┤ H ├┤ X ├┤ Z ├──■──┤M├──────────────────────»\n",
              "     └─────────────────────┘└───┘└───┘└───┘┌─┴─┐└╥┘   ┌───┐      ┌───┐   »\n",
              "q_1: ──────────────────────────────────────┤ X ├─╫────┤ H ├──────┤ X ├───»\n",
              "                                           └───┘ ║    └─╥─┘      └─╥─┘   »\n",
              "                                                 ║ ┌────╨────┐┌────╨────┐»\n",
              "c: 2/════════════════════════════════════════════╩═╡ c_0=0x1 ╞╡ c_0=0x1 ╞»\n",
              "                                                 0 └─────────┘└─────────┘»\n",
              "«                 separartion here    \n",
              "«q_0: ───────────────────░────────────\n",
              "«        ┌───┐           ░         ┌─┐\n",
              "«q_1: ───┤ Z ├───────────░─────────┤M├\n",
              "«        └─╥─┘           ░         └╥┘\n",
              "«     ┌────╨────┐                   ║ \n",
              "«c: 2/╡ c_0=0x1 ╞═══════════════════╩═\n",
              "«     └─────────┘                   1 </pre>"
            ]
          },
          "metadata": {},
          "execution_count": 27
        }
      ],
      "source": [
        "from qiskit import QuantumRegister, ClassicalRegister, QuantumCircuit\n",
        "from qiskit.quantum_info import Statevector\n",
        "from qiskit.visualization import plot_bloch_multivector\n",
        "from qiskit.circuit.library.standard_gates import HGate, XGate, ZGate\n",
        "import numpy as np\n",
        "\n",
        "q = QuantumRegister(2,'q') #create a quantum register (q[index] indexing for qbits)\n",
        "c = ClassicalRegister(2,'c') #create a classical register (c[index] indexing for cbits)\n",
        "\n",
        "qc = QuantumCircuit(q,c) #create a quantum circuit from the reqisters\n",
        "\n",
        "#Set state of qubits\n",
        "state1 = Statevector([0.6,0.8]) #Set statevector\n",
        "qc.initialize(state1,qubits=q[0], normalize=True) #initialize qubit\n",
        "\n",
        "#quantum gates\n",
        "qc.h(q[0]) #H\n",
        "qc.x(q[0]) #X\n",
        "qc.z(q[0]) #Z\n",
        "qc.cx(q[0],q[1]) #CNOT\n",
        "\n",
        "\n",
        "#Statevector from quantum circuit\n",
        "state_qc = Statevector(qc)\n",
        "\n",
        "print(state_qc)\n",
        "\n",
        "#measurement\n",
        "qc.measure(q[0],c[0])\n",
        "\n",
        "#classically controlled quantum gates\n",
        "ch_gate = HGate().c_if(c[0],1) # controlled H,  gate active if c[0] contains a '1'\n",
        "qc.append(ch_gate, [q[1]])     # append to circuit, gate will operate on q[1]\n",
        "cx_gate = XGate().c_if(c[0],1) # controlled X,  gate active if c[0] contains a '1'\n",
        "qc.append(cx_gate, [q[1]])     # append to circuit, gate will operate on q[1]\n",
        "cz_gate = ZGate().c_if(c[0],1) # controlled Z,  gate active if c[0] contains a '1'\n",
        "qc.append(cz_gate, [q[1]])     # append to circuit, gate will operate on q[1]\n",
        "\n",
        "#visual separator\n",
        "qc.barrier(label = \"separartion here\")\n",
        "\n",
        "qc.measure(q[1],c[1])\n",
        "#draw circuit\n",
        "qc.draw()\n",
        "\n"
      ]
    },
    {
      "cell_type": "code",
      "source": [
        "qc.draw(output='mpl')"
      ],
      "metadata": {
        "colab": {
          "base_uri": "https://localhost:8080/",
          "height": 255
        },
        "id": "pjT2hPpfjJpf",
        "outputId": "abed4a23-bf6f-4c32-ee71-3dc09f690bde"
      },
      "id": "pjT2hPpfjJpf",
      "execution_count": null,
      "outputs": [
        {
          "output_type": "execute_result",
          "data": {
            "text/plain": [
              "<Figure size 1207.02x284.278 with 1 Axes>"
            ],
            "image/png": "[encoded data removed]"
          },
          "metadata": {},
          "execution_count": 28
        }
      ]
    },
    {
      "cell_type": "code",
      "execution_count": null,
      "id": "fd4f6b8e-b165-45ac-96b5-c910a75e7679",
      "metadata": {
        "tags": [],
        "id": "fd4f6b8e-b165-45ac-96b5-c910a75e7679",
        "outputId": "983fdc22-cdb5-401c-a059-de55fb66123e"
      },
      "outputs": [
        {
          "name": "stdout",
          "output_type": "stream",
          "text": [
            "{'11': 9, '01': 1}\n",
            "['11', '01', '11', '11', '11', '11', '11', '11', '11', '11']\n",
            "['1', '0', '1', '1', '1', '1', '1', '1', '1', '1']\n"
          ]
        }
      ],
      "source": [
        "from qiskit_aer import Aer\n",
        "from qiskit import transpile\n",
        "\n",
        "\n",
        "#set simulator\n",
        "backend = Aer.get_backend('qasm_simulator')\n",
        "job_sim = backend.run(transpile(qc, backend), shots=10, memory=True) # 10 repetitions\n",
        "#get measurement result\n",
        "result_sim = job_sim.result()\n",
        "#get count statistics\n",
        "counts = result_sim.get_counts()\n",
        "\n",
        "print(counts) #print counts\n",
        "\n",
        "#detailed results as a list\n",
        "mem = result_sim.get_memory() #detailed results\n",
        "\n",
        "mem_first = [rec[0] for rec in mem] # get results corresponding only to the first qubit\n",
        "print(mem)\n",
        "print(mem_first)\n"
      ]
    },
    {
      "cell_type": "code",
      "execution_count": null,
      "id": "dd11928d-e21b-4f4a-abe5-5d24197a755e",
      "metadata": {
        "tags": [],
        "id": "dd11928d-e21b-4f4a-abe5-5d24197a755e",
        "outputId": "387d822a-2cfd-4d79-e08a-721521f9022e"
      },
      "outputs": [
        {
          "data": {
            "image/png": "[encoded data removed]",
            "text/plain": [
              "<Figure size 432x288 with 1 Axes>"
            ]
          },
          "execution_count": 4,
          "metadata": {},
          "output_type": "execute_result"
        }
      ],
      "source": [
        "from qiskit.visualization import plot_histogram\n",
        "#histogram\n",
        "plot_histogram(counts)\n"
      ]
    },
    {
      "cell_type": "markdown",
      "id": "da77826a-b2f1-4d15-966b-076fbac33f2a",
      "metadata": {
        "id": "da77826a-b2f1-4d15-966b-076fbac33f2a"
      },
      "source": [
        "## Example for getting state vectors from simulation"
      ]
    },
    {
      "cell_type": "code",
      "execution_count": null,
      "id": "da3a8f18-9488-4440-a646-9bf2ac4793e2",
      "metadata": {
        "id": "da3a8f18-9488-4440-a646-9bf2ac4793e2",
        "outputId": "f7df1588-2d2c-42bf-914f-e7e21d80faf6"
      },
      "outputs": [
        {
          "data": {
            "text/html": [
              "<pre style=\"word-wrap: normal;white-space: pre;background: #fff0;line-height: 1.1;font-family: &quot;Courier New&quot;,Courier,monospace\">     ┌───┐      before_meas ┌─┐ after_meas    \n",
              "q_0: ┤ H ├──■────────░──────┤M├─────░─────────\n",
              "     └───┘┌─┴─┐      ░      └╥┘     ░      ┌─┐\n",
              "q_1: ─────┤ X ├──────░───────╫──────░──────┤M├\n",
              "          └───┘      ░       ║      ░      └╥┘\n",
              "c: 2/════════════════════════╩══════════════╩═\n",
              "                             0              1 </pre>"
            ],
            "text/plain": [
              "     ┌───┐      before_meas ┌─┐ after_meas    \n",
              "q_0: ┤ H ├──■────────░──────┤M├─────░─────────\n",
              "     └───┘┌─┴─┐      ░      └╥┘     ░      ┌─┐\n",
              "q_1: ─────┤ X ├──────░───────╫──────░──────┤M├\n",
              "          └───┘      ░       ║      ░      └╥┘\n",
              "c: 2/════════════════════════╩══════════════╩═\n",
              "                             0              1 "
            ]
          },
          "execution_count": 5,
          "metadata": {},
          "output_type": "execute_result"
        }
      ],
      "source": [
        "from qiskit import QuantumRegister, ClassicalRegister, QuantumCircuit\n",
        "from qiskit.quantum_info import Statevector\n",
        "from qiskit_aer import Aer\n",
        "\n",
        "q = QuantumRegister(2,'q')\n",
        "c = ClassicalRegister(2,'c')\n",
        "\n",
        "qc = QuantumCircuit(q,c)\n",
        "qc.h(q[0])\n",
        "qc.cx(q[0],q[1])\n",
        "\n",
        "qc.save_statevector(label = 'before_meas', pershot = True)\n",
        "#measurement\n",
        "qc.measure(q[0],c[0])\n",
        "qc.save_statevector(label = 'after_meas', pershot = True)\n",
        "\n",
        "qc.measure(q[1],c[1])\n",
        "\n",
        "qc.draw()\n",
        "\n",
        "\n"
      ]
    },
    {
      "cell_type": "code",
      "execution_count": null,
      "id": "bc5a2529-39b0-4b36-aad7-13f813d20ed3",
      "metadata": {
        "tags": [],
        "id": "bc5a2529-39b0-4b36-aad7-13f813d20ed3"
      },
      "outputs": [],
      "source": [
        "#Trace operation (optional)\n",
        "#from qiskit.quantum_info import partial_trace\n",
        "\n",
        "#traced_over_qubits = [qc.qubits.index(qubit) for qubit in range(0,1)]\n",
        "#density_matrix = partial_trace(state, traced_over_qubits)\n",
        "\n",
        "#This is for density matrices :)"
      ]
    },
    {
      "cell_type": "code",
      "execution_count": null,
      "id": "41b12fc2-2bb8-4277-9a23-40c1e14348f4",
      "metadata": {
        "tags": [],
        "id": "41b12fc2-2bb8-4277-9a23-40c1e14348f4",
        "outputId": "310ecfb4-ab15-4850-d3cb-54648e26c8e0"
      },
      "outputs": [
        {
          "name": "stdout",
          "output_type": "stream",
          "text": [
            "[Statevector([0.70710678+0.j, 0.        +0.j, 0.        +0.j,\n",
            "             0.70710678+0.j],\n",
            "            dims=(2, 2)), Statevector([0.70710678+0.j, 0.        +0.j, 0.        +0.j,\n",
            "             0.70710678+0.j],\n",
            "            dims=(2, 2)), Statevector([0.70710678+0.j, 0.        +0.j, 0.        +0.j,\n",
            "             0.70710678+0.j],\n",
            "            dims=(2, 2)), Statevector([0.70710678+0.j, 0.        +0.j, 0.        +0.j,\n",
            "             0.70710678+0.j],\n",
            "            dims=(2, 2)), Statevector([0.70710678+0.j, 0.        +0.j, 0.        +0.j,\n",
            "             0.70710678+0.j],\n",
            "            dims=(2, 2)), Statevector([0.70710678+0.j, 0.        +0.j, 0.        +0.j,\n",
            "             0.70710678+0.j],\n",
            "            dims=(2, 2)), Statevector([0.70710678+0.j, 0.        +0.j, 0.        +0.j,\n",
            "             0.70710678+0.j],\n",
            "            dims=(2, 2)), Statevector([0.70710678+0.j, 0.        +0.j, 0.        +0.j,\n",
            "             0.70710678+0.j],\n",
            "            dims=(2, 2)), Statevector([0.70710678+0.j, 0.        +0.j, 0.        +0.j,\n",
            "             0.70710678+0.j],\n",
            "            dims=(2, 2)), Statevector([0.70710678+0.j, 0.        +0.j, 0.        +0.j,\n",
            "             0.70710678+0.j],\n",
            "            dims=(2, 2))]\n",
            "[Statevector([0.+0.j, 0.+0.j, 0.+0.j, 1.+0.j],\n",
            "            dims=(2, 2)), Statevector([0.+0.j, 0.+0.j, 0.+0.j, 1.+0.j],\n",
            "            dims=(2, 2)), Statevector([0.+0.j, 0.+0.j, 0.+0.j, 1.+0.j],\n",
            "            dims=(2, 2)), Statevector([1.+0.j, 0.+0.j, 0.+0.j, 0.+0.j],\n",
            "            dims=(2, 2)), Statevector([0.+0.j, 0.+0.j, 0.+0.j, 1.+0.j],\n",
            "            dims=(2, 2)), Statevector([1.+0.j, 0.+0.j, 0.+0.j, 0.+0.j],\n",
            "            dims=(2, 2)), Statevector([1.+0.j, 0.+0.j, 0.+0.j, 0.+0.j],\n",
            "            dims=(2, 2)), Statevector([0.+0.j, 0.+0.j, 0.+0.j, 1.+0.j],\n",
            "            dims=(2, 2)), Statevector([1.+0.j, 0.+0.j, 0.+0.j, 0.+0.j],\n",
            "            dims=(2, 2)), Statevector([0.+0.j, 0.+0.j, 0.+0.j, 1.+0.j],\n",
            "            dims=(2, 2))]\n"
          ]
        }
      ],
      "source": [
        "from qiskit_aer import Aer\n",
        "from qiskit import transpile\n",
        "\n",
        "#szimulátor kijelölse\n",
        "backend = Aer.get_backend('qasm_simulator')\n",
        "job_sim = backend.run(transpile(qc, backend), shots=10,memory=True) # 10-szer ismételjük meg a kísérletet, hogy statisztikát kapjunk és elvégezzük a mérést\n",
        "#mérési eredmény kinyerése\n",
        "result_sim = job_sim.result()\n",
        "\n",
        "print(result_sim.data(0)['before_meas'])\n",
        "print(result_sim.data(0)['after_meas'])"
      ]
    },
    {
      "cell_type": "markdown",
      "id": "26c6a6fb-f4a8-4437-b25e-bde463d79f8d",
      "metadata": {
        "id": "26c6a6fb-f4a8-4437-b25e-bde463d79f8d"
      },
      "source": [
        "# Laboratory exercises\n",
        "\n",
        "### 1. Create circuits to create the four famous Bell states! Create a circuit to create an entanglement of three quantum bits!"
      ]
    },
    {
      "cell_type": "markdown",
      "id": "69972e57-fd7b-4310-9346-a48150bdf06d",
      "metadata": {
        "id": "69972e57-fd7b-4310-9346-a48150bdf06d"
      },
      "source": [
        "### 2. Create the protocol for superdense coding! Verify correct operation!"
      ]
    },
    {
      "cell_type": "code",
      "execution_count": null,
      "id": "14e2aaeb-2fa6-4461-961c-edabb0dac985",
      "metadata": {
        "tags": [],
        "id": "14e2aaeb-2fa6-4461-961c-edabb0dac985"
      },
      "outputs": [],
      "source": [
        "superdense_message = [0,1]\n",
        "\n",
        "#Hint:\n",
        "#Since Qiskit doesnt support setting classical registers directly, there are two recommended ways of setting the meassage:\n",
        "# 1. Create a new quantum circuit for each message depending on the message\n",
        "# 2. Use classically controlled quantum gates, and set the cbits by measuring |0> or |1> depending on the message"
      ]
    },
    {
      "cell_type": "markdown",
      "id": "5cc3296a-9f0f-4484-84bc-e251e72ff420",
      "metadata": {
        "id": "5cc3296a-9f0f-4484-84bc-e251e72ff420"
      },
      "source": [
        "### Create a quantum teleportation protocol! Verify correct operation!"
      ]
    },
    {
      "cell_type": "code",
      "execution_count": null,
      "id": "f6d9ec5a-ee4a-46dc-a8c4-72cd2f6ec165",
      "metadata": {
        "id": "f6d9ec5a-ee4a-46dc-a8c4-72cd2f6ec165"
      },
      "outputs": [],
      "source": [
        "state_to_teleport = Statevector([0.6,0.8])"
      ]
    },
    {
      "cell_type": "markdown",
      "id": "cab0dc16-a1a9-4d9a-a0cb-d9fba80f2209",
      "metadata": {
        "id": "cab0dc16-a1a9-4d9a-a0cb-d9fba80f2209"
      },
      "source": [
        "### Create a quantum random number generator! Create the BB84 protocol! Verify correct operation by generating a secret key of at least 20 bits!\n",
        "(Bonus task: Insert an attacker into the system and detect him!)"
      ]
    },
    {
      "cell_type": "code",
      "execution_count": null,
      "id": "18b988e5-0d8d-4c1e-ab2d-f55c86edf69d",
      "metadata": {
        "id": "18b988e5-0d8d-4c1e-ab2d-f55c86edf69d"
      },
      "outputs": [],
      "source": []
    }
  ],
  "metadata": {
    "kernelspec": {
      "display_name": "Qiskit v1.0.0 (ipykernel)",
      "language": "python",
      "name": "python3"
    },
    "language_info": {
      "codemirror_mode": {
        "name": "ipython",
        "version": 3
      },
      "file_extension": ".py",
      "mimetype": "text/x-python",
      "name": "python",
      "nbconvert_exporter": "python",
      "pygments_lexer": "ipython3",
      "version": "3.9.7"
    },
    "colab": {
      "provenance": [],
      "collapsed_sections": [
        "MZVQbnJMgVgU",
        "5d0E9ehTZ-J2",
        "giZFYdr5aobl",
        "-qA9e7cDasAt",
        "6ZLxxpFOay07",
        "VlA7qHhTi5i4",
        "fxYuKvqcuFnb",
        "50e2968f-a6b3-482b-be8b-31e82f9e70e7"
      ]
    }
  },
  "nbformat": 4,
  "nbformat_minor": 5
}