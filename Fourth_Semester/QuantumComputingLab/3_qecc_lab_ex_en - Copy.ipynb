{
 "cells": [
  {
   "cell_type": "code",
   "execution_count": null,
   "id": "initial_id",
   "metadata": {
    "tags": []
   },
   "outputs": [],
   "source": [
    "#%pip install ipympl\n",
    "#%matplotlib ipympl \n",
    "\n",
    "\n",
    "\n",
    "try:\n",
    "  import matplotlib.pyplot as plt\n",
    "  from qiskit.quantum_info import partial_trace,Statevector\n",
    "  import qiskit \n",
    "  from qiskit_aer.noise import NoiseModel, pauli_error\n",
    "  from qiskit_aer import AerSimulator\n",
    "  from qiskit import transpile\n",
    "except:\n",
    "  !pip install matplotlib qiskit[visualization] qiskit_aer\n",
    "  import matplotlib.pyplot as plt\n",
    "  from qiskit.quantum_info import partial_trace,Statevector\n",
    "  import qiskit \n",
    "  from qiskit_aer.noise import NoiseModel, pauli_error\n",
    "  from qiskit_aer import AerSimulator\n",
    "  from qiskit import transpile\n",
    "\n",
    "### helper stuff \n",
    "def pauli_error_x(err, _):\n",
    "    return pauli_error([('I', 1 - err), ('X', err)])\n",
    "\n",
    "\n",
    "def pauli_error_z(err, _):\n",
    "    return pauli_error([('I', 1 - err), ('Z', err)])\n",
    "\n",
    "def pauli_error_y(err, _):\n",
    "    return pauli_error([('I', 1 - err), ('Y', err)])\n",
    "\n",
    "def run_with_error(qc, id_error, shots=100, opt_level=0):\n",
    "    noise_model = NoiseModel()\n",
    "    noise_model.add_all_qubit_quantum_error(id_error, 'id')\n",
    "    sim = AerSimulator(method='matrix_product_state', noise_model=noise_model)\n",
    "    # sim = Aer.get_backend('qasm_simulator')\n",
    "\n",
    "    transpiled_qc = transpile(qc, sim, optimization_level=opt_level)\n",
    "    res = sim.run(transpiled_qc, shots=shots).result()\n",
    "    return res\n",
    "\n",
    "\n",
    "\n",
    "def test_quantum_qec(qc_enc: qiskit.QuantumCircuit | None = None, qc_syndrome: qiskit.QuantumCircuit | None = None,\n",
    "                     qc_correct: qiskit.QuantumCircuit | None = None,\n",
    "                     qc_decode: qiskit.QuantumCircuit | None = None, qc_type=0):\n",
    "    # 0: bitlfip\n",
    "    # 1: phaseflip\n",
    "    # 2: shor\n",
    "    pad_bits = 4\n",
    "    err_to_apply = qiskit.circuit.library.IGate\n",
    "    err_model = pauli_error_x\n",
    "    channe_qbits = 3\n",
    "    if qc_type == 0:\n",
    "        err_to_apply = qiskit.circuit.library.XGate\n",
    "    elif qc_type == 1:\n",
    "        err_to_apply = qiskit.circuit.library.ZGate\n",
    "        err_model = pauli_error_z\n",
    "    elif qc_type == 2:\n",
    "        pad_bits = 16\n",
    "        err_to_apply = qiskit.circuit.library.YGate\n",
    "        channe_qbits = 9\n",
    "        err_model = pauli_error_y\n",
    "\n",
    "    sv = None\n",
    "    sv_res = None\n",
    "    failed = False\n",
    "\n",
    "    for i in range(channe_qbits):\n",
    "        sv = qiskit.quantum_info.random_statevector(2, seed=209)\n",
    "        sv = sv.from_label(\"0\" * pad_bits).tensor(sv)\n",
    "\n",
    "        qc = qiskit.QuantumCircuit(qc_enc.num_qubits)\n",
    "        qc.compose(qc_enc, inplace=True, wrap=True)\n",
    "\n",
    "        qc.append(err_to_apply(), qargs=[i])\n",
    "\n",
    "        qc.barrier(label=\"Errors\")\n",
    "\n",
    "        if qc_syndrome:\n",
    "            qc.compose(qc_syndrome, inplace=True, wrap=True)\n",
    "\n",
    "        if qc_correct:\n",
    "            qc.compose(qc_correct, inplace=True, wrap=True)\n",
    "\n",
    "\n",
    "        if qc_decode:\n",
    "            qc.compose(qc_decode, inplace=True, wrap=True)\n",
    "\n",
    "        #qc.draw(\"mpl\")\n",
    "\n",
    "        sv_res = sv.evolve(qc)\n",
    "        sv = partial_trace(sv, [i for i in range(1, pad_bits + 1)])\n",
    "        sv_res = partial_trace(sv_res, [i for i in range(1, pad_bits + 1)])\n",
    "\n",
    "        if sv == sv_res:\n",
    "            continue\n",
    "        failed = True\n",
    "        print(f\"Error when applying error to the {i}th channel bit!\")\n",
    "\n",
    "    if failed:\n",
    "        return \n",
    "        \n",
    "    print(\"Your QEC is working as intended congratulations!\")\n",
    "    qc = qiskit.QuantumCircuit(qc_enc.num_qubits,1)\n",
    "    \n",
    "    \n",
    "    \n",
    "    qc.x(0)\n",
    "    \n",
    "    qc.compose(qc_enc, inplace=True, wrap=True)\n",
    "\n",
    "    for i in range(channe_qbits):\n",
    "        qc.id(i)\n",
    "\n",
    "    qc.barrier(label=\"Errors\")\n",
    "\n",
    "    if qc_syndrome:\n",
    "        qc.compose(qc_syndrome, inplace=True, wrap=True)\n",
    "\n",
    "    if qc_correct:\n",
    "        qc.compose(qc_correct, inplace=True, wrap=True)\n",
    "\n",
    "    if qc_decode:\n",
    "        qc.compose(qc_decode, inplace=True, wrap=True)\n",
    "        \n",
    "    qc.measure(0,0)\n",
    "    \n",
    "    fids = []\n",
    "    errs = []\n",
    "    n= 50\n",
    "    for k in range(n):\n",
    "        max_err=  0.5\n",
    "        use_err = k/n*max_err\n",
    "        results = run_with_error(qc,id_error=err_model(use_err,None))\n",
    "        try:\n",
    "            fidelity = results.get_counts()[\"1\"]/100\n",
    "        except:\n",
    "            fidelity =0\n",
    "        \n",
    "        fids.append(fidelity)\n",
    "        errs.append(use_err)\n",
    "    \n",
    "    \n",
    "    plt.xlabel('Error chance')\n",
    "    plt.ylabel('Fidelity')\n",
    "    plt.plot(errs,fids)\n"
   ]
  },
  {
   "cell_type": "markdown",
   "id": "b3ee5a1c4013901c",
   "metadata": {},
   "source": [
    "# Creating code to correct a simple bit-flip error\n",
    "### Encoding:\n",
    "\n",
    "Create a quantum circuit that encodes the input quantum bit into the desired logical state:\n",
    "\n",
    "$|\\phi> = \\alpha|0> +\\beta|1>$ -> $\\alpha|000> +\\beta|111>$\n",
    " \n",
    " "
   ]
  },
  {
   "cell_type": "code",
   "execution_count": null,
   "id": "afbc6d4e17d9ee36",
   "metadata": {
    "tags": []
   },
   "outputs": [],
   "source": [
    "channel = qiskit.QuantumRegister(3)\n",
    "ancillas = qiskit.QuantumRegister(2)\n",
    "qc_encode = qiskit.QuantumCircuit(channel,ancillas,name=\"enc\")\n",
    "\n",
    "### Your code goes here\n",
    "\n",
    "\n",
    "\n",
    "###\n",
    "qc_encode.draw(\"mpl\")\n"
   ]
  },
  {
   "cell_type": "markdown",
   "id": "a2167489a37fcf00",
   "metadata": {},
   "source": [
    "### Using the StateVector object test your code!"
   ]
  },
  {
   "cell_type": "code",
   "execution_count": null,
   "id": "5d514c9d2401a23b",
   "metadata": {},
   "outputs": [],
   "source": [
    "\n",
    "sv_res = ...\n",
    "\n",
    "###\n",
    "sv_res.draw(\"Latex\")"
   ]
  },
  {
   "attachments": {
    "d4675d94-4b01-4848-b272-a8739c3bc883.png": {
     "image/png": "[encoded data removed]"
    }
   },
   "cell_type": "markdown",
   "id": "a12772e09b14b1ce",
   "metadata": {},
   "source": [
    "### Error detection \n",
    "\n",
    "Create a quantum circuit that projects the errors into the ancilla quantum bits.\n",
    "\n",
    "### Help:\n",
    "![error_x.png](attachment:d4675d94-4b01-4848-b272-a8739c3bc883.png)"
   ]
  },
  {
   "cell_type": "code",
   "execution_count": null,
   "id": "4dced1a38b94613b",
   "metadata": {
    "tags": []
   },
   "outputs": [],
   "source": [
    "channel = qiskit.QuantumRegister(3)\n",
    "ancillas = qiskit.QuantumRegister(2)\n",
    "qc_shor_bit = qiskit.QuantumCircuit(channel, ancillas, name=\"syn\")\n",
    "\n",
    "### Your code goes here\n",
    "\n",
    "\n",
    "###\n",
    "qc_shor_bit.draw(\"mpl\")\n",
    "\n"
   ]
  },
  {
   "cell_type": "markdown",
   "id": "cc9debf4cb341980",
   "metadata": {},
   "source": [
    "### Using the StateVector object test your code!"
   ]
  },
  {
   "cell_type": "code",
   "execution_count": null,
   "id": "be1058a159ef21a4",
   "metadata": {},
   "outputs": [],
   "source": [
    "\n",
    "sv_res = ...\n",
    "\n",
    "###\n",
    "sv_res.draw(\"Latex\")"
   ]
  },
  {
   "cell_type": "markdown",
   "id": "62a6507476c70166",
   "metadata": {},
   "source": [
    "### Correcting errors \n",
    "Create a quantum circuit that with the use of ancilla quantum bits corrects the errors!\n",
    "\n",
    "### Help\n",
    "the CCX gate can be used as an indexing function\n",
    "\n",
    "If you want it to activate for only set '10' use X gate on the second ancilla or with the ctrl_state parameter"
   ]
  },
  {
   "cell_type": "code",
   "execution_count": null,
   "id": "532c5cbfa092a1ad",
   "metadata": {
    "tags": []
   },
   "outputs": [],
   "source": [
    "channel = qiskit.QuantumRegister(3)\n",
    "ancillas = qiskit.QuantumRegister(2)\n",
    "qc_correct = qiskit.QuantumCircuit(channel,ancillas,name=\"corr\")\n",
    "\n",
    "### Your code goes here\n",
    "\n",
    "\n",
    "###\n",
    "qc_correct.draw(\"mpl\")"
   ]
  },
  {
   "cell_type": "markdown",
   "id": "b03af8a64672878e",
   "metadata": {},
   "source": [
    "### Using the StateVector object test your code!\n"
   ]
  },
  {
   "cell_type": "code",
   "execution_count": null,
   "id": "6377fe8317881ee9",
   "metadata": {},
   "outputs": [],
   "source": [
    "\n",
    "sv_res = ...\n",
    "\n",
    "###\n",
    "sv_res.draw(\"Latex\")"
   ]
  },
  {
   "cell_type": "markdown",
   "id": "d43cf7dd22993873",
   "metadata": {},
   "source": [
    "### Decode\n",
    "\n",
    "Create a quanum circuit that tranforms back the logical state in to the original 1 quantum bit state!\n",
    "\n",
    "$|\\phi> = \\alpha|0> +\\beta|1>$"
   ]
  },
  {
   "cell_type": "code",
   "execution_count": null,
   "id": "f462b20f0098e263",
   "metadata": {
    "tags": []
   },
   "outputs": [],
   "source": [
    "channel = qiskit.QuantumRegister(3)\n",
    "ancillas = qiskit.QuantumRegister(2)\n",
    "qc_decode = qiskit.QuantumCircuit(channel,ancillas,name=\"dec\")\n",
    "\n",
    "### Your code goes here\n",
    "\n",
    "\n",
    "###\n",
    "qc_decode.draw(\"mpl\")"
   ]
  },
  {
   "cell_type": "markdown",
   "id": "d6b3278d814c2f2a",
   "metadata": {},
   "source": [
    "### Using the StateVector object test your code!"
   ]
  },
  {
   "cell_type": "code",
   "execution_count": null,
   "id": "8baf37cadcdab98e",
   "metadata": {},
   "outputs": [],
   "source": [
    "\n",
    "sv_res = ...\n",
    "\n",
    "###\n",
    "sv_res.draw(\"Latex\")"
   ]
  },
  {
   "cell_type": "markdown",
   "id": "31b4ba83b7240db",
   "metadata": {},
   "source": [
    "### And we are done! \n",
    "\n",
    "Use the following code to test your solution!\n",
    " "
   ]
  },
  {
   "cell_type": "code",
   "execution_count": null,
   "id": "3161d8ebf0a8d3cd",
   "metadata": {
    "tags": []
   },
   "outputs": [],
   "source": [
    "#Qecc test\n",
    "plt.close()\n",
    "test_quantum_qec(qc_enc=qc_encode, qc_syndrome=qc_shor_bit, qc_correct=qc_correct, qc_decode=qc_decode, qc_type=0)\n"
   ]
  },
  {
   "cell_type": "markdown",
   "id": "8805ddd2045bb679",
   "metadata": {},
   "source": [
    "### Congrats! Using the circuits created until now create a phase-flip (Z) error correcting circuit!\n",
    "\n",
    "##### Hint:\n",
    "Phase-flip errors can be transformed into bitflip errors using a Hadamard gate!\n",
    "\n"
   ]
  },
  {
   "cell_type": "code",
   "execution_count": null,
   "id": "c6233c9dc60fe9d6",
   "metadata": {
    "tags": []
   },
   "outputs": [],
   "source": [
    "ph_enc = qc_encode.copy()\n",
    "ph_syn = qc_shor_bit.copy()\n",
    "ph_cor = qc_correct.copy()\n",
    "ph_dec = qc_decode.copy()\n",
    "\n",
    "### Your code goes here\n",
    "\n",
    "\n",
    "###\n",
    "qc_ph = qiskit.QuantumCircuit(ph_enc.num_qubits)\n",
    "qc_ph.compose(ph_enc, inplace=True)\n",
    "qc_ph.barrier(label=\"encode\")\n",
    "qc_ph.barrier(label=\"channel\")\n",
    "qc_ph.compose(ph_syn, inplace=True)\n",
    "qc_ph.barrier(label=\"syndrome\")\n",
    "qc_ph.compose(ph_cor, inplace=True)\n",
    "qc_ph.barrier(label=\"correct\")\n",
    "qc_ph.compose(ph_dec, inplace=True)\n",
    "qc_ph.barrier(label=\"decode\")\n",
    "\n",
    "qc_ph.draw(\"mpl\")"
   ]
  },
  {
   "cell_type": "markdown",
   "id": "e4f872b17432ec1d",
   "metadata": {},
   "source": [
    "### Lets see if it works!"
   ]
  },
  {
   "cell_type": "code",
   "execution_count": null,
   "id": "77e9204dbab3f8f0",
   "metadata": {
    "tags": []
   },
   "outputs": [],
   "source": [
    "### QEC test\n",
    "plt.close()\n",
    "test_quantum_qec(qc_enc=ph_enc,qc_syndrome=ph_syn,qc_correct=ph_cor,qc_decode=ph_dec,qc_type=1)"
   ]
  },
  {
   "cell_type": "markdown",
   "id": "ede9ae8231a4ec93",
   "metadata": {},
   "source": [
    "### From these two circuits implement Shor's code!\n"
   ]
  },
  {
   "cell_type": "code",
   "execution_count": null,
   "id": "10a6cd14b9a47d0e",
   "metadata": {
    "tags": []
   },
   "outputs": [],
   "source": [
    "channel = qiskit.QuantumRegister(9)\n",
    "ancillas = qiskit.QuantumRegister(8)\n",
    "qc_shor = qiskit.QuantumCircuit(channel, ancillas, name=\"enc\")\n",
    "### Your code here\n",
    "\n",
    "\n",
    "###\n",
    "qc_shor_bit = qiskit.QuantumCircuit(channel, ancillas, name=\"bitflip\")\n",
    "qc_shor_bit.barrier()\n",
    "### Your code here\n",
    "\n",
    "\n",
    "\n",
    "###\n",
    "qc_shor_phase = qiskit.QuantumCircuit(channel, ancillas, name=\"phaseflip\")\n",
    "### Your code here\n",
    "\n",
    "\n",
    "\n",
    "\n",
    "#####\n",
    "#qc_shor.draw(\"mpl\")\n",
    "#qc_shor_bit.draw(\"mpl\")\n",
    "#qc_shor_phase.draw(\"mpl\")\n",
    "test_quantum_qec(qc_enc=qc_shor, qc_syndrome=qc_shor_bit, qc_correct=qc_shor_phase, qc_type=2)\n",
    "\n",
    "\n",
    "\n"
   ]
  },
  {
   "cell_type": "markdown",
   "id": "45c26ac99be41687",
   "metadata": {},
   "source": [
    "### Extra exercises:\n",
    "+ Bit-flip QECC with no ancillas\n",
    "+ Phase-flip QECC with no ancillas \n",
    "+ Shor QECC with no ancillas"
   ]
  },
  {
   "cell_type": "code",
   "execution_count": null,
   "id": "533f30b3766d149",
   "metadata": {
    "tags": []
   },
   "outputs": [],
   "source": [
    "\n",
    "\n",
    "#test_quantum_qec(qc_enc=qc_ec, qc_syndrome=qc_correct,qc_type=0)\n",
    "\n",
    "\n"
   ]
  }
 ],
 "metadata": {
  "kernelspec": {
   "display_name": "Qiskit v1.0.2 (ipykernel)",
   "language": "python",
   "name": "python3"
  },
  "language_info": {
   "codemirror_mode": {
    "name": "ipython",
    "version": 3
   },
   "file_extension": ".py",
   "mimetype": "text/x-python",
   "name": "python",
   "nbconvert_exporter": "python",
   "pygments_lexer": "ipython3",
   "version": "3.10.8"
  },
  "widgets": {
   "application/vnd.jupyter.widget-state+json": {
    "state": {},
    "version_major": 2,
    "version_minor": 0
   }
  }
 },
 "nbformat": 4,
 "nbformat_minor": 5
}
