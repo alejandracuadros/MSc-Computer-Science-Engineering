{
 "cells": [
  {
   "cell_type": "markdown",
   "id": "d9dbdc5e7bd32c0a",
   "metadata": {},
   "source": [
    "# Qiskit intro \n",
    "Documentation: https://docs.quantum.ibm.com/api/qiskit\n",
    "\n",
    "### QuantumCircuit \n",
    "https://docs.quantum.ibm.com/api/qiskit/qiskit.circuit.QuantumCircuit#quantumcircuit\n",
    "\n",
    "+ Model the circuit, main component. All gates are applied to this. \n",
    "+ Two ways to extend a quantum circuit qc:\n"
   ]
  },
  {
   "cell_type": "code",
   "execution_count": null,
   "id": "1141257053f6b5e7",
   "metadata": {},
   "outputs": [],
   "source": [
    "import qiskit\n",
    "from qiskit.circuit.library import XGate\n",
    "\n",
    "qc = qiskit.QuantumCircuit(1)\n",
    "qc.append(XGate(),qargs=[0])\n",
    "qc.x(0)\n",
    "###\n",
    "qc.draw(\"mpl\")"
   ]
  },
  {
   "cell_type": "markdown",
   "id": "c66484143cf48be7",
   "metadata": {},
   "source": [
    "+ In an object oriented fashion it is possible to add up and extend QuantumCircuits with other QuantumCircuit objects using qc.compose(other_qc,in_place=True) \n",
    "    + In_place=True specifies that qc will be changed. "
   ]
  },
  {
   "cell_type": "code",
   "execution_count": null,
   "id": "initial_id",
   "metadata": {
    "collapsed": true
   },
   "outputs": [],
   "source": [
    "qc_1 = qiskit.QuantumCircuit(1)\n",
    "qc_2 = qiskit.QuantumCircuit(1)\n",
    "\n",
    "qc_1.x(0)\n",
    "qc_2.y(0)\n",
    "\n",
    "qc_1.compose(qc_2,inplace=True)\n",
    "\n",
    "qc_1.draw(\"mpl\")\n"
   ]
  },
  {
   "cell_type": "markdown",
   "id": "8487b93526325512",
   "metadata": {},
   "source": [
    "### StateVector\n",
    "https://docs.quantum.ibm.com/api/qiskit/qiskit.quantum_info.Statevector#statevector\n",
    "\n",
    "Represents the state of the quantum system. Can be used to create and run circuits with custom states. This can be done by creating a state vector  then ‘evolving’ it trough a system. \n"
   ]
  },
  {
   "cell_type": "code",
   "execution_count": null,
   "id": "8ecfa2187c2b4119",
   "metadata": {},
   "outputs": [],
   "source": [
    "from qiskit.quantum_info import Statevector, random_statevector\n",
    "\n",
    "sv = random_statevector(2, seed=209)\n",
    "sv_2 = Statevector.from_label(\"01\")\n",
    "sv_res = sv.evolve(qc_1)\n",
    "sv.draw(\"Latex\")"
   ]
  },
  {
   "cell_type": "code",
   "execution_count": null,
   "id": "daca6a069a17445b",
   "metadata": {},
   "outputs": [],
   "source": [
    "sv.draw(\"bloch\")"
   ]
  },
  {
   "cell_type": "code",
   "execution_count": null,
   "id": "7617fbc5259e9081",
   "metadata": {},
   "outputs": [],
   "source": [
    "sv_res.draw(\"bloch\")"
   ]
  },
  {
   "cell_type": "markdown",
   "id": "bd12eba86b9a34e8",
   "metadata": {},
   "source": [
    "### Good to knows"
   ]
  },
  {
   "cell_type": "code",
   "execution_count": null,
   "id": "ba83ff528351c32a",
   "metadata": {},
   "outputs": [],
   "source": [
    "from qiskit import QuantumCircuit,QuantumRegister,ClassicalRegister\n",
    "### Create entanglement: \n",
    "qc = QuantumCircuit(2)\n",
    "qc.h(0)\n",
    "qc.cx(0,1)\n",
    "\n",
    "### Using custom registers\n",
    "qr1 = QuantumRegister(2,name=\"CustomReg1\")\n",
    "qr2 = QuantumRegister(2,name=\"CustomReg2\")\n",
    "qr3 = QuantumRegister(2,name=\"CustomReg3\")\n",
    "cc = ClassicalRegister(1,name=\"ClassicalReg\")\n",
    "qc1 = QuantumCircuit(qr1,qr2,qr3,cc)\n",
    "\n",
    "### Using gates with custom registers\n",
    "qc1.x(qr1)\n",
    "qc1.h(qr2)\n",
    "qc1.h(qr3)\n",
    "qc1.measure(qr3[0],cc)\n",
    "\n",
    "qc1.draw(\"mpl\")\n"
   ]
  }
 ],
 "metadata": {
  "kernelspec": {
   "display_name": "Python 3",
   "language": "python",
   "name": "python3"
  },
  "language_info": {
   "codemirror_mode": {
    "name": "ipython",
    "version": 2
   },
   "file_extension": ".py",
   "mimetype": "text/x-python",
   "name": "python",
   "nbconvert_exporter": "python",
   "pygments_lexer": "ipython2",
   "version": "2.7.6"
  }
 },
 "nbformat": 4,
 "nbformat_minor": 5
}
